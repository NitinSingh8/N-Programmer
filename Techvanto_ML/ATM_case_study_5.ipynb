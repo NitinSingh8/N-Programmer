{
 "cells": [
  {
   "cell_type": "markdown",
   "id": "d2a49b23-842b-4a59-8c0a-fd66085eceff",
   "metadata": {},
   "source": [
    "# ATM"
   ]
  },
  {
   "cell_type": "code",
   "execution_count": 41,
   "id": "481fce8f-bfb6-4b96-9267-17126bf5b49c",
   "metadata": {},
   "outputs": [],
   "source": [
    "class ATM: # the main class for handling the user detail\n",
    "    def __init__(self,pin = 12345, act_num = \"useraccount1\",holdername=\"default\",amt = 100):\n",
    "        self.amt=  amt\n",
    "        self.pin = pin\n",
    "        self.account_number = act_num\n",
    "        self.holdername = holdername"
   ]
  },
  {
   "cell_type": "code",
   "execution_count": 28,
   "id": "0c94f06f-b890-4096-86f8-375039e7e275",
   "metadata": {},
   "outputs": [],
   "source": [
    "def menu(): # for showing the menu to user\n",
    "    print(\"Hi user! The following service is available in your account!\")\n",
    "    print(\"0. Show Profile\")\n",
    "    print(\"1. Check Balance\")\n",
    "    print(\"2. Add amount in your account.\")\n",
    "    print(\"3. Withdraw amount from the account.\")\n",
    "    print(\"4. Change pin\")\n",
    "    print(\"5. Delete account\")\n",
    "    print(\"6. Exit \")"
   ]
  },
  {
   "cell_type": "code",
   "execution_count": 29,
   "id": "6354d899-b646-4c43-a187-f55375b26d21",
   "metadata": {},
   "outputs": [],
   "source": [
    "def show_profile(user): # for display the profile\n",
    "    print(\"Your name : \", user.holdername)\n",
    "    print(\"Your account number : \", user.account_number)\n",
    "    print(\"your amount : \",user.amt)"
   ]
  },
  {
   "cell_type": "code",
   "execution_count": 30,
   "id": "53d7afcf-5fe6-42c8-8cdb-15fa07476efa",
   "metadata": {},
   "outputs": [],
   "source": [
    "def create_account(): # for creating the account \n",
    "    print(\"You have give some detail here : \")\n",
    "    name = input(\"Enter Your name : \")\n",
    "    accnt_num = input(\"Enter account number : \")\n",
    "    while True:\n",
    "        try:\n",
    "            pin1 = int(input(\"Set your pin(Must be 5 digit integer) : \"))\n",
    "            if len(str(pin1))!=5:\n",
    "                    raise ValueError(\"length must be 4\")\n",
    "            pin2 = int(input(\"confirm your pin : \"))\n",
    "            if pin2==pin1:\n",
    "                print(\"Pin set successfully\")\n",
    "                break\n",
    "            else:\n",
    "                raise ValueError(\"didn't match\")\n",
    "        except:\n",
    "            print(\"Something wrong Try again!!!\")\n",
    "    user = ATM(pin1,accnt_num, name,100)\n",
    "    print(\"We have successfully created your account with 100 rupee bonus!!!\\n\")\n",
    "    return user"
   ]
  },
  {
   "cell_type": "code",
   "execution_count": 45,
   "id": "d3ee5e9f-1594-40d7-b46b-3a6fb3d8e592",
   "metadata": {},
   "outputs": [],
   "source": [
    "def check_pin(user):\n",
    "    pin = int(input(\"Enter your pin to continue : \"))\n",
    "    if pin==user.pin:\n",
    "        return True\n",
    "    else:\n",
    "        print(\"Sorry your pin is wrong\")\n",
    "        return False"
   ]
  },
  {
   "cell_type": "code",
   "execution_count": 31,
   "id": "a2e938c8-25dd-4214-8c57-dce82953bfc2",
   "metadata": {},
   "outputs": [],
   "source": [
    "def check_balance(user): # for checking balance of user\n",
    "    print(\"Your current amount is : \", user.amt)"
   ]
  },
  {
   "cell_type": "code",
   "execution_count": 43,
   "id": "453940eb-8d85-4916-911f-8c5005f61a72",
   "metadata": {},
   "outputs": [],
   "source": [
    "def add_amount(user): # for adding the amount in user account\n",
    "    if check_pin(user):\n",
    "        money = float(input(\"Enter amount you want to add in account : \"))\n",
    "        user.amt += money\n",
    "        print(\"You have successfully added amount\")\n",
    "    "
   ]
  },
  {
   "cell_type": "code",
   "execution_count": 46,
   "id": "d32e76a0-9ab6-4840-835b-eaa97ed829ce",
   "metadata": {},
   "outputs": [],
   "source": [
    "def withdraw_amount(user): # for withdrawing money \n",
    "    if check_pin(user):\n",
    "        money = float(input(\"Enter amount you want to withdraw : \"))\n",
    "        if money<=user.amt:\n",
    "            user.amt -= money\n",
    "            print(\"you have successfully withdraw amount \")\n",
    "        else:\n",
    "            print(\"Not enough amount in bank\")"
   ]
  },
  {
   "cell_type": "code",
   "execution_count": 34,
   "id": "61f49483-b47e-4916-bfbc-06a03768073b",
   "metadata": {},
   "outputs": [],
   "source": [
    "def change_pin(user): # for changing the user account pin \n",
    "    pin = int(input(\"Enter your old pin : \"))\n",
    "    if pin==user.pin:\n",
    "        \n",
    "        while True:\n",
    "            try:\n",
    "                pin1 = int(input(\"Set your pin(Must be 5 digit integer) : \"))\n",
    "                if len(str(pin1))!=5:\n",
    "                    raise ValueError(\"length must be 4\")\n",
    "                pin2 = int(input(\"confirm your pin : \"))\n",
    "                if pin2==pin1:\n",
    "                    user.pin = pin1\n",
    "                    print(\"Pin set successfully\")\n",
    "                    break\n",
    "                else:\n",
    "                    raise ValueError(\"didn't match\")\n",
    "            except:\n",
    "                print(\"Something wrong Try again!!!\")\n",
    "    else:\n",
    "        print(\"Sorry your pin is wrong\")"
   ]
  },
  {
   "cell_type": "code",
   "execution_count": 35,
   "id": "aac8eb72-3b29-40a9-b614-1dcd6fc9818e",
   "metadata": {},
   "outputs": [],
   "source": [
    "def delete_account(user): # for deleting the user account \n",
    "    opt = input(\"Are you sure want to delete your account. (y/n) : \")\n",
    "    if opt in (\"y\" , 'Y'):\n",
    "        del user\n",
    "        print(\"Account deleted premanently\")\n",
    "    else:\n",
    "        print(\"Account is still active\")"
   ]
  },
  {
   "cell_type": "code",
   "execution_count": 36,
   "id": "d6744077-1ffd-4daf-acd6-69ec7e779975",
   "metadata": {},
   "outputs": [],
   "source": [
    "def show_again():\n",
    "    opt = input(\"Do you want see menu again (y/n) :\")\n",
    "    if opt in ('y','Y'):\n",
    "        print()\n",
    "        return 1\n",
    "    print()\n",
    "    return 0\n",
    "    "
   ]
  },
  {
   "cell_type": "code",
   "execution_count": 39,
   "id": "0b1dc33f-9ca1-40b2-9cfc-e280c5c6b964",
   "metadata": {},
   "outputs": [],
   "source": [
    "def run(): # main function to run the whole program\n",
    "    print(\"1. I have already an account in this bank\")\n",
    "    print(\"2. I want to create an account first\")\n",
    "    \n",
    "    opt = int(input(\"Choose the option : \"))\n",
    "    \n",
    "\n",
    "    if opt==1:\n",
    "        user=  ATM()\n",
    "        while True:\n",
    "            pin = int(input(\"Enter your pin to login : \"))\n",
    "            if pin==user.pin:\n",
    "                print(\"You login successfully\")\n",
    "                break\n",
    "            else:\n",
    "                print(\"wrong pin \")\n",
    "                # print (\"Re-\",end=\"\")\n",
    "    if opt==2:\n",
    "        user = create_account()\n",
    "\n",
    "    status= True\n",
    "    while status:\n",
    "        menu()\n",
    "        opt = int(input(\"Choose option : \"))\n",
    "        print()\n",
    "        if opt==0:\n",
    "            show_profile(user)\n",
    "            ans = show_again()\n",
    "            if ans==0:\n",
    "                status = False\n",
    "        \n",
    "        if opt==1:\n",
    "            check_balance(user)\n",
    "            ans = show_again()\n",
    "            if ans==0:\n",
    "                status= False\n",
    "        if opt==2:\n",
    "            add_amount(user)\n",
    "            ans = show_again()\n",
    "            if ans==0:\n",
    "                status= False\n",
    "        if opt==3:\n",
    "            withdraw_amount(user)\n",
    "            ans = show_again()\n",
    "            if ans==0:\n",
    "                status= False\n",
    "        if opt==4:\n",
    "            change_pin(user)\n",
    "            ans = show_again()\n",
    "            if ans==0:\n",
    "                status= False\n",
    "        if opt==5:\n",
    "            delete_account(user)\n",
    "            status = False\n",
    "        if opt==6:\n",
    "            status=  False\n",
    "        \n",
    "    print(\"Thanks for using my service :)\")\n",
    "            \n",
    "        "
   ]
  },
  {
   "cell_type": "code",
   "execution_count": null,
   "id": "61466af7-5952-4a7f-b347-cb2dd9fdaba2",
   "metadata": {},
   "outputs": [
    {
     "name": "stdout",
     "output_type": "stream",
     "text": [
      "1. I have already an account in this bank\n",
      "2. I want to create an account first\n"
     ]
    },
    {
     "name": "stdin",
     "output_type": "stream",
     "text": [
      "Choose the option :  1\n",
      "Enter your pin to login :  12345\n"
     ]
    },
    {
     "name": "stdout",
     "output_type": "stream",
     "text": [
      "You login successfully\n",
      "Hi user! The following service is available in your account!\n",
      "0. Show Profile\n",
      "1. Check Balance\n",
      "2. Add amount in your account.\n",
      "3. Withdraw amount from the account.\n",
      "4. Change pin\n",
      "5. Delete account\n",
      "6. Exit \n"
     ]
    },
    {
     "name": "stdin",
     "output_type": "stream",
     "text": [
      "Choose option :  0\n"
     ]
    },
    {
     "name": "stdout",
     "output_type": "stream",
     "text": [
      "\n",
      "Your name :  default\n",
      "Your account number :  useraccount1\n",
      "your amount :  100\n"
     ]
    },
    {
     "name": "stdin",
     "output_type": "stream",
     "text": [
      "Do you want see menu again (y/n) : y\n"
     ]
    },
    {
     "name": "stdout",
     "output_type": "stream",
     "text": [
      "\n",
      "Hi user! The following service is available in your account!\n",
      "0. Show Profile\n",
      "1. Check Balance\n",
      "2. Add amount in your account.\n",
      "3. Withdraw amount from the account.\n",
      "4. Change pin\n",
      "5. Delete account\n",
      "6. Exit \n"
     ]
    }
   ],
   "source": [
    "run() # running the program"
   ]
  },
  {
   "cell_type": "code",
   "execution_count": null,
   "id": "b76e4cda-13e4-45e8-9807-f6be8393bcc1",
   "metadata": {},
   "outputs": [],
   "source": []
  }
 ],
 "metadata": {
  "kernelspec": {
   "display_name": "Python 3 (ipykernel)",
   "language": "python",
   "name": "python3"
  },
  "language_info": {
   "codemirror_mode": {
    "name": "ipython",
    "version": 3
   },
   "file_extension": ".py",
   "mimetype": "text/x-python",
   "name": "python",
   "nbconvert_exporter": "python",
   "pygments_lexer": "ipython3",
   "version": "3.8.5"
  }
 },
 "nbformat": 4,
 "nbformat_minor": 5
}
