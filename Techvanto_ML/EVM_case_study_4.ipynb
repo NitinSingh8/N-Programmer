{
 "cells": [
  {
   "cell_type": "markdown",
   "id": "62b16f06-bcee-4037-9dfb-2c582403e0c7",
   "metadata": {},
   "source": [
    " # Election Voting Machine"
   ]
  },
  {
   "cell_type": "code",
   "execution_count": 1,
   "id": "95cc7128-d011-4b0d-af7a-2bcf22d722c5",
   "metadata": {},
   "outputs": [
    {
     "name": "stdout",
     "output_type": "stream",
     "text": [
      "Name of party with respective number shown below :  \n",
      "1. Bharatiya Janata Party (BJP)\n",
      "2. Indian National Congress (INC)\n",
      "3. Bahujan Samaj Party (BSP)\n",
      "4. All India Trinamool Congress (AITC)\n"
     ]
    },
    {
     "name": "stdin",
     "output_type": "stream",
     "text": [
      "Enter the respective number to choose that party  :  3\n"
     ]
    },
    {
     "name": "stdout",
     "output_type": "stream",
     "text": [
      "You have successfully voted :)\n"
     ]
    },
    {
     "name": "stdin",
     "output_type": "stream",
     "text": [
      "Do you want to do poll again(y/n) or(1/0):  y\n"
     ]
    },
    {
     "name": "stdout",
     "output_type": "stream",
     "text": [
      "\n",
      "Name of party with respective number shown below :  \n",
      "1. Bharatiya Janata Party (BJP)\n",
      "2. Indian National Congress (INC)\n",
      "3. Bahujan Samaj Party (BSP)\n",
      "4. All India Trinamool Congress (AITC)\n"
     ]
    },
    {
     "name": "stdin",
     "output_type": "stream",
     "text": [
      "Enter the respective number to choose that party  :  2\n"
     ]
    },
    {
     "name": "stdout",
     "output_type": "stream",
     "text": [
      "You have successfully voted :)\n"
     ]
    },
    {
     "name": "stdin",
     "output_type": "stream",
     "text": [
      "Do you want to do poll again(y/n) or(1/0):  y\n"
     ]
    },
    {
     "name": "stdout",
     "output_type": "stream",
     "text": [
      "\n",
      "Name of party with respective number shown below :  \n",
      "1. Bharatiya Janata Party (BJP)\n",
      "2. Indian National Congress (INC)\n",
      "3. Bahujan Samaj Party (BSP)\n",
      "4. All India Trinamool Congress (AITC)\n"
     ]
    },
    {
     "name": "stdin",
     "output_type": "stream",
     "text": [
      "Enter the respective number to choose that party  :  1\n"
     ]
    },
    {
     "name": "stdout",
     "output_type": "stream",
     "text": [
      "You have successfully voted :)\n"
     ]
    },
    {
     "name": "stdin",
     "output_type": "stream",
     "text": [
      "Do you want to do poll again(y/n) or(1/0):  n\n"
     ]
    },
    {
     "name": "stdout",
     "output_type": "stream",
     "text": [
      "\n",
      "Total people voted :  3\n",
      "Vote for BJP is : 1\n",
      "Vote for INC is : 1\n",
      "Vote for BSP is : 1\n",
      "Vote for AITC is : 0\n"
     ]
    }
   ],
   "source": [
    "def choice(): # function for showing the name of political party\n",
    "    print(\"1. Bharatiya Janata Party (BJP)\")\n",
    "    print(\"2. Indian National Congress (INC)\")\n",
    "    print(\"3. Bahujan Samaj Party (BSP)\")\n",
    "    print(\"4. All India Trinamool Congress (AITC)\")\n",
    "\n",
    "\n",
    "\n",
    "# data for counting and incrementing\n",
    "dic = {'BJP': 0 , 'INC' : 0 , 'BSP' : 0 , 'AITC' : 0}\n",
    "li = ['BJP','INC','BSP','AITC']\n",
    "people = 0\n",
    "\n",
    "# main code\n",
    "while True:\n",
    "    print(\"Name of party with respective number shown below :  \")\n",
    "    choice() # calling the function \n",
    "    try :\n",
    "        inp = int(input(\"Enter the respective number to choose that party  : \"))\n",
    "        value = li[inp-1]\n",
    "        dic[value]+=1\n",
    "        print(\"You have successfully voted :)\")\n",
    "        people+=1\n",
    "    except:\n",
    "        print(\"You enter wrong input...... We can't vote for you\")\n",
    "    finally:\n",
    "        n = input(\"Do you want to do poll again(y/n) or(1/0): \")\n",
    "        if not n.upper()==\"Y\" or n=='0':\n",
    "            print()\n",
    "            break\n",
    "    print()\n",
    "            \n",
    "\n",
    "# printing the result\n",
    "print(\"Total people voted : \",people)\n",
    "for data in li:\n",
    "    print(f\"Vote for {data} is : {dic[data]}\")\n",
    "    \n",
    "    "
   ]
  },
  {
   "cell_type": "code",
   "execution_count": null,
   "id": "1735007b-3a9c-4c64-aa35-5d709a8471c4",
   "metadata": {},
   "outputs": [],
   "source": []
  }
 ],
 "metadata": {
  "kernelspec": {
   "display_name": "Python 3 (ipykernel)",
   "language": "python",
   "name": "python3"
  },
  "language_info": {
   "codemirror_mode": {
    "name": "ipython",
    "version": 3
   },
   "file_extension": ".py",
   "mimetype": "text/x-python",
   "name": "python",
   "nbconvert_exporter": "python",
   "pygments_lexer": "ipython3",
   "version": "3.8.5"
  }
 },
 "nbformat": 4,
 "nbformat_minor": 5
}
